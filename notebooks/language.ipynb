{
 "cells": [
  {
   "cell_type": "markdown",
   "metadata": {},
   "source": [
    "# Language Model\n",
    "\n",
    "This notebook does the same as the `luis.ipynb` notebook, but for an Azure Language Service. It works fine, but it is not used in the rest of this project, because the Azure Language Service is too new and the integration with the Bot service is not well documented at this time.\n"
   ]
  },
  {
   "cell_type": "code",
   "execution_count": 1,
   "metadata": {},
   "outputs": [
    {
     "name": "stdout",
     "output_type": "stream",
     "text": [
      ">>> Downloading and saving data files...\n",
      "Data files already downloaded.\n",
      ">>> OK.\n",
      "\n"
     ]
    }
   ],
   "source": [
    "!cd .. && make dataset && cd notebooks"
   ]
  },
  {
   "cell_type": "code",
   "execution_count": 3,
   "metadata": {},
   "outputs": [],
   "source": [
    "import json\n",
    "import os\n",
    "import random\n",
    "import warnings\n",
    "from pathlib import Path\n",
    "import uuid\n",
    "import modin.pandas as pd\n",
    "import pandas\n",
    "import plotly.io as pio\n",
    "import requests\n",
    "from dotenv import load_dotenv\n",
    "from pandas_profiling import ProfileReport\n",
    "from tqdm.notebook import tqdm_notebook as tqdm\n",
    "import time\n",
    "\n",
    "warnings.filterwarnings(\"ignore\", category=UserWarning)\n",
    "warnings.filterwarnings(\"ignore\", category=FutureWarning)\n",
    "\n",
    "\n",
    "pio.renderers.default = \"notebook\"\n",
    "pd.options.plotting.backend = \"plotly\"\n",
    "\n",
    "\n",
    "load_dotenv()\n",
    "\n",
    "AZURE_LANGUAGE_ENDPOINT = os.getenv(\"AZURE_LANGUAGE_ENDPOINT\")\n",
    "AZURE_LANGUAGE_KEY = os.getenv(\"AZURE_LANGUAGE_KEY\")\n",
    "\n",
    "AZURE_LANGUAGE_PROJECT_NAME = \"BookFlight\"\n",
    "AZURE_LANGUAGE_API_VERSION = \"2022-03-01-preview\"\n",
    "\n",
    "DATA_PATH = Path(\"../data\")\n",
    "FRAMES_JSON_PATH = Path(DATA_PATH, \"raw/frames.json\")\n",
    "\n",
    "TRAIN_TEST_RATIO = 0.8"
   ]
  },
  {
   "cell_type": "code",
   "execution_count": 4,
   "metadata": {},
   "outputs": [
    {
     "name": "stdout",
     "output_type": "stream",
     "text": [
      "<Response [404]>\n"
     ]
    }
   ],
   "source": [
    "purge = True\n",
    "\n",
    "if purge:\n",
    "    url = f\"{AZURE_LANGUAGE_ENDPOINT}/language/authoring/analyze-conversations/projects/{AZURE_LANGUAGE_PROJECT_NAME}?api-version={AZURE_LANGUAGE_API_VERSION}\"\n",
    "    headers = {\n",
    "        \"Ocp-Apim-Subscription-Key\": AZURE_LANGUAGE_KEY,\n",
    "    }\n",
    "\n",
    "    response = requests.delete(url=url, headers=headers)\n",
    "    print(response)"
   ]
  },
  {
   "cell_type": "code",
   "execution_count": 5,
   "metadata": {},
   "outputs": [
    {
     "data": {
      "application/vnd.jupyter.widget-view+json": {
       "model_id": "b3091b1168de4cd29bee3e537a710bfa",
       "version_major": 2,
       "version_minor": 0
      },
      "text/plain": [
       "  0%|          | 0/1369 [00:00<?, ?it/s]"
      ]
     },
     "metadata": {},
     "output_type": "display_data"
    }
   ],
   "source": [
    "raw_data = pd.read_json(FRAMES_JSON_PATH)\n",
    "\n",
    "assets = {\n",
    "    \"intents\": [\n",
    "        {\"category\": \"Book\"},\n",
    "        {\"category\": \"Info\"},\n",
    "    ],\n",
    "    \"entities\": [\n",
    "        {\"category\": \"or_city\"},\n",
    "        {\"category\": \"dst_city\"},\n",
    "        {\"category\": \"str_date\"},\n",
    "        {\"category\": \"end_date\"},\n",
    "        {\"category\": \"budget\"},\n",
    "    ],\n",
    "    \"utterances\": [],\n",
    "}\n",
    "\n",
    "unique_utterances = []\n",
    "\n",
    "for turn in tqdm(raw_data[\"turns\"]):\n",
    "    for frame in turn:\n",
    "        if frame[\"author\"] == \"wizard\" or frame[\"text\"] in unique_utterances:\n",
    "            continue\n",
    "\n",
    "        unique_utterances.append(frame[\"text\"])\n",
    "\n",
    "        is_book = False\n",
    "        entities = []\n",
    "\n",
    "        for act in frame[\"labels\"][\"acts_without_refs\"]:\n",
    "            for arg in act[\"args\"]:\n",
    "                if arg[\"key\"] == \"intent\" and arg[\"val\"] == \"book\":\n",
    "                    is_book = True\n",
    "\n",
    "                if (\n",
    "                    arg[\"key\"] in [e[\"category\"] for e in assets[\"entities\"]]\n",
    "                    and arg[\"val\"] is not None\n",
    "                    and frame[\"text\"].find(arg[\"val\"]) != -1\n",
    "                ):\n",
    "                    entity = {\n",
    "                        \"category\": arg[\"key\"],\n",
    "                        \"offset\": frame[\"text\"].index(arg[\"val\"]),\n",
    "                        \"length\": len(arg[\"val\"]),\n",
    "                    }\n",
    "                    entities.append(entity)\n",
    "\n",
    "        if len(entities) > 0:\n",
    "            assets[\"utterances\"].append(\n",
    "                {\n",
    "                    \"text\": frame[\"text\"],\n",
    "                    \"language\": \"en-us\",\n",
    "                    \"intent\": \"Book\" if is_book else \"Info\",\n",
    "                    \"entities\": entities,\n",
    "                    \"dataset\": \"Train\"\n",
    "                    if random.random() < TRAIN_TEST_RATIO\n",
    "                    else \"Test\",\n",
    "                }\n",
    "            )"
   ]
  },
  {
   "cell_type": "code",
   "execution_count": 6,
   "metadata": {},
   "outputs": [
    {
     "name": "stdout",
     "output_type": "stream",
     "text": [
      "> Status code: 202\n",
      "> Reason: Accepted\n"
     ]
    }
   ],
   "source": [
    "## Import\n",
    "\n",
    "url = f\"{AZURE_LANGUAGE_ENDPOINT}/language/authoring/analyze-conversations/projects/{AZURE_LANGUAGE_PROJECT_NAME}/:import?api-version={ AZURE_LANGUAGE_API_VERSION }\"\n",
    "headers = {\n",
    "    \"Ocp-Apim-Subscription-Key\": AZURE_LANGUAGE_KEY,\n",
    "}\n",
    "data = {\n",
    "    \"api-version\": AZURE_LANGUAGE_API_VERSION,\n",
    "    \"stringIndexType\": \"Utf16CodeUnit\",\n",
    "    \"metadata\": {\n",
    "        \"projectName\": AZURE_LANGUAGE_PROJECT_NAME,\n",
    "        \"projectKind\": \"conversation\",\n",
    "        \"multilingual\": False,\n",
    "        \"language\": \"en-us\",\n",
    "    },\n",
    "    \"assets\": assets,\n",
    "}\n",
    "\n",
    "response = requests.post(url=url, headers=headers, data=json.dumps(data))\n",
    "location = response.headers[\"operation-location\"]\n",
    "\n",
    "print(f\"> Status code: {response.status_code}\")\n",
    "print(f\"> Reason: {response.reason}\")"
   ]
  },
  {
   "cell_type": "code",
   "execution_count": 7,
   "metadata": {},
   "outputs": [
    {
     "name": "stdout",
     "output_type": "stream",
     "text": [
      "> Status: running\n",
      "> Waiting...\n",
      "\n",
      "{\n",
      "    \"jobId\": \"28903b37-7c86-4371-8a2c-9e7bf67868f9_637893792000000000\",\n",
      "    \"createdDateTime\": \"2022-05-29T15:45:06Z\",\n",
      "    \"lastUpdatedDateTime\": \"2022-05-29T15:45:08Z\",\n",
      "    \"expirationDateTime\": \"2022-06-05T15:45:06Z\",\n",
      "    \"status\": \"succeeded\"\n",
      "}\n"
     ]
    }
   ],
   "source": [
    "response = requests.get(url=location, headers=headers)\n",
    "\n",
    "while response.json()[\"status\"] == \"running\":\n",
    "    print(f\"> Status: {response.json()['status']}\")\n",
    "    print(\"> Waiting...\\n\")\n",
    "    time.sleep(5)\n",
    "    response = requests.get(url=location, headers=headers)\n",
    "\n",
    "print(json.dumps(response.json(), indent=4))"
   ]
  },
  {
   "cell_type": "code",
   "execution_count": 9,
   "metadata": {},
   "outputs": [
    {
     "name": "stdout",
     "output_type": "stream",
     "text": [
      "> Status code: 202\n",
      "> Reason: Accepted\n"
     ]
    }
   ],
   "source": [
    "## Train\n",
    "\n",
    "\n",
    "url = f\"{AZURE_LANGUAGE_ENDPOINT}/language/authoring/analyze-conversations/projects/{AZURE_LANGUAGE_PROJECT_NAME}/:train?api-version={ AZURE_LANGUAGE_API_VERSION }\"\n",
    "headers = {\n",
    "    \"Ocp-Apim-Subscription-Key\": AZURE_LANGUAGE_KEY,\n",
    "    \"Content-Type\": \"application/json\",\n",
    "}\n",
    "data = {\n",
    "    \"modelLabel\": AZURE_LANGUAGE_PROJECT_NAME,\n",
    "    \"trainingMode\": \"standard\",\n",
    "    \"evaluationOptions\": {\n",
    "        \"kind\": \"manual\",\n",
    "    },\n",
    "}\n",
    "\n",
    "response = requests.post(url=url, headers=headers, data=json.dumps(data))\n",
    "location = response.headers[\"operation-location\"]\n",
    "\n",
    "print(f\"> Status code: {response.status_code}\")\n",
    "print(f\"> Reason: {response.reason}\")"
   ]
  },
  {
   "cell_type": "code",
   "execution_count": 10,
   "metadata": {},
   "outputs": [
    {
     "data": {
      "application/vnd.jupyter.widget-view+json": {
       "model_id": "0708fd4ed84b4173ab10a90f076bd93a",
       "version_major": 2,
       "version_minor": 0
      },
      "text/plain": [
       "  0%|          | 0/100 [00:00<?, ?it/s]"
      ]
     },
     "metadata": {},
     "output_type": "display_data"
    },
    {
     "name": "stdout",
     "output_type": "stream",
     "text": [
      "{\n",
      "    \"result\": {\n",
      "        \"modelLabel\": \"BookFlight\",\n",
      "        \"trainingConfigVersion\": \"2022-05-01\",\n",
      "        \"trainingMode\": \"standard\",\n",
      "        \"trainingStatus\": {\n",
      "            \"percentComplete\": 100,\n",
      "            \"startDateTime\": \"2022-05-29T15:45:16.73844Z\",\n",
      "            \"endDateTime\": \"2022-05-29T15:49:01.9239945Z\",\n",
      "            \"status\": \"succeeded\"\n",
      "        },\n",
      "        \"evaluationStatus\": {\n",
      "            \"percentComplete\": 100,\n",
      "            \"startDateTime\": \"2022-05-29T15:49:01.9482545Z\",\n",
      "            \"endDateTime\": \"2022-05-29T15:50:47.0671822Z\",\n",
      "            \"status\": \"succeeded\"\n",
      "        }\n",
      "    },\n",
      "    \"jobId\": \"b2f5ba89-6e20-419a-bbca-8da973c2ffd8_637893792000000000\",\n",
      "    \"createdDateTime\": \"2022-05-29T15:45:14Z\",\n",
      "    \"lastUpdatedDateTime\": \"2022-05-29T15:50:48Z\",\n",
      "    \"expirationDateTime\": \"2022-06-05T15:45:14Z\",\n",
      "    \"status\": \"succeeded\"\n",
      "}\n"
     ]
    }
   ],
   "source": [
    "response = requests.get(url=location, headers=headers)\n",
    "\n",
    "with tqdm(total=100) as progress:\n",
    "    p = 0\n",
    "    while not response.json()[\"status\"] == \"succeeded\":\n",
    "        time.sleep(1)\n",
    "        response = requests.get(url=location, headers=headers)\n",
    "        progress.update(\n",
    "            response.json()[\"result\"][\"trainingStatus\"][\"percentComplete\"] - p\n",
    "        )\n",
    "        p = response.json()[\"result\"][\"trainingStatus\"][\"percentComplete\"]\n",
    "\n",
    "    progress.update(100 - p)\n",
    "\n",
    "print(json.dumps(response.json(), indent=4))"
   ]
  },
  {
   "cell_type": "code",
   "execution_count": 11,
   "metadata": {},
   "outputs": [
    {
     "name": "stdout",
     "output_type": "stream",
     "text": [
      "> Status code: 202\n",
      "> Reason: Accepted\n"
     ]
    }
   ],
   "source": [
    "## Deploy\n",
    "\n",
    "\n",
    "url = f\"{AZURE_LANGUAGE_ENDPOINT}/language/authoring/analyze-conversations/projects/{AZURE_LANGUAGE_PROJECT_NAME}/deployments/production?api-version={ AZURE_LANGUAGE_API_VERSION }\"\n",
    "headers = {\n",
    "    \"Ocp-Apim-Subscription-Key\": AZURE_LANGUAGE_KEY,\n",
    "}\n",
    "data = {\n",
    "    \"trainedModelLabel\": AZURE_LANGUAGE_PROJECT_NAME,\n",
    "}\n",
    "\n",
    "response = requests.put(url=url, headers=headers, data=json.dumps(data))\n",
    "location = response.headers[\"operation-location\"]\n",
    "\n",
    "print(f\"> Status code: {response.status_code}\")\n",
    "print(f\"> Reason: {response.reason}\")"
   ]
  },
  {
   "cell_type": "code",
   "execution_count": 12,
   "metadata": {},
   "outputs": [
    {
     "name": "stdout",
     "output_type": "stream",
     "text": [
      "> Status: running\n",
      "> Waiting...\n",
      "\n",
      "> Status: running\n",
      "> Waiting...\n",
      "\n",
      "{\n",
      "    \"jobId\": \"3f967ffe-5bfb-4454-9450-d2d684fbef8c_637893792000000000\",\n",
      "    \"createdDateTime\": \"2022-05-29T15:50:50Z\",\n",
      "    \"lastUpdatedDateTime\": \"2022-05-29T15:50:58Z\",\n",
      "    \"expirationDateTime\": \"2022-06-05T15:50:50Z\",\n",
      "    \"status\": \"succeeded\"\n",
      "}\n"
     ]
    }
   ],
   "source": [
    "response = requests.get(url=location, headers=headers)\n",
    "\n",
    "while response.json()[\"status\"] == \"running\":\n",
    "    print(f\"> Status: {response.json()['status']}\")\n",
    "    print(\"> Waiting...\\n\")\n",
    "    time.sleep(5)\n",
    "    response = requests.get(url=location, headers=headers)\n",
    "\n",
    "print(json.dumps(response.json(), indent=4))"
   ]
  },
  {
   "cell_type": "code",
   "execution_count": 13,
   "metadata": {},
   "outputs": [
    {
     "name": "stdout",
     "output_type": "stream",
     "text": [
      "{\n",
      "    \"kind\": \"CustomConversationResult\",\n",
      "    \"results\": {\n",
      "        \"query\": \"I want to book a flight from Paris to London next week for less than $100.\",\n",
      "        \"prediction\": {\n",
      "            \"topIntent\": \"Info\",\n",
      "            \"projectKind\": \"conversation\",\n",
      "            \"intents\": [\n",
      "                {\n",
      "                    \"category\": \"Info\",\n",
      "                    \"confidenceScore\": 0.95340455\n",
      "                },\n",
      "                {\n",
      "                    \"category\": \"Book\",\n",
      "                    \"confidenceScore\": 0.9430551\n",
      "                },\n",
      "                {\n",
      "                    \"category\": \"None\",\n",
      "                    \"confidenceScore\": 0\n",
      "                }\n",
      "            ],\n",
      "            \"entities\": [\n",
      "                {\n",
      "                    \"category\": \"or_city\",\n",
      "                    \"text\": \"Paris\",\n",
      "                    \"offset\": 29,\n",
      "                    \"length\": 5,\n",
      "                    \"confidenceScore\": 1\n",
      "                },\n",
      "                {\n",
      "                    \"category\": \"dst_city\",\n",
      "                    \"text\": \"London\",\n",
      "                    \"offset\": 38,\n",
      "                    \"length\": 6,\n",
      "                    \"confidenceScore\": 1\n",
      "                },\n",
      "                {\n",
      "                    \"category\": \"str_date\",\n",
      "                    \"text\": \"next week\",\n",
      "                    \"offset\": 45,\n",
      "                    \"length\": 9,\n",
      "                    \"confidenceScore\": 1\n",
      "                },\n",
      "                {\n",
      "                    \"category\": \"budget\",\n",
      "                    \"text\": \"$100\",\n",
      "                    \"offset\": 69,\n",
      "                    \"length\": 4,\n",
      "                    \"confidenceScore\": 1\n",
      "                }\n",
      "            ]\n",
      "        }\n",
      "    }\n",
      "}\n"
     ]
    }
   ],
   "source": [
    "## Test\n",
    "\n",
    "\n",
    "url = f\"{ AZURE_LANGUAGE_ENDPOINT }/language/:analyze-conversations?api-version={ AZURE_LANGUAGE_API_VERSION }\"\n",
    "headers = {\n",
    "    \"Ocp-Apim-Subscription-Key\": AZURE_LANGUAGE_KEY,\n",
    "}\n",
    "data = {\n",
    "    \"kind\": \"CustomConversation\",\n",
    "    \"analysisInput\": {\n",
    "        \"conversationItem\": {\n",
    "            \"participantId\": \"test\",\n",
    "            \"id\": \"test\",\n",
    "            \"modality\": \"text\",\n",
    "            \"text\": \"I want to book a flight from Paris to London next week for less than $100.\",\n",
    "            \"language\": \"en-us\",\n",
    "        }\n",
    "    },\n",
    "    \"parameters\": {\n",
    "        \"projectName\": AZURE_LANGUAGE_PROJECT_NAME,\n",
    "        \"deploymentName\": \"production\",\n",
    "    },\n",
    "}\n",
    "\n",
    "response = requests.post(url=url, headers=headers, data=json.dumps(data))\n",
    "\n",
    "print(json.dumps(response.json(), indent=4))"
   ]
  }
 ],
 "metadata": {
  "interpreter": {
   "hash": "e42e041c1008b7d34ddfdf31400d3c61f06b110b4fcd14ef2472b79108a6b85b"
  },
  "kernelspec": {
   "display_name": "Python 3.9.12 ('env': venv)",
   "language": "python",
   "name": "python3"
  },
  "language_info": {
   "codemirror_mode": {
    "name": "ipython",
    "version": 3
   },
   "file_extension": ".py",
   "mimetype": "text/x-python",
   "name": "python",
   "nbconvert_exporter": "python",
   "pygments_lexer": "ipython3",
   "version": "3.9.13"
  },
  "orig_nbformat": 4
 },
 "nbformat": 4,
 "nbformat_minor": 2
}
