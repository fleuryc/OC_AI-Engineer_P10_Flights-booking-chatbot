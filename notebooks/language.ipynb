{
 "cells": [
  {
   "cell_type": "code",
   "execution_count": 1,
   "metadata": {},
   "outputs": [
    {
     "name": "stdout",
     "output_type": "stream",
     "text": [
      ">>> Downloading and saving data files...\n",
      "Data files already downloaded.\n",
      ">>> OK.\n",
      "\n"
     ]
    }
   ],
   "source": [
    "!cd .. && make dataset && cd notebooks"
   ]
  },
  {
   "cell_type": "code",
   "execution_count": 2,
   "metadata": {},
   "outputs": [],
   "source": [
    "# from codecarbon import OfflineEmissionsTracker\n",
    "\n",
    "# tracker = OfflineEmissionsTracker(save_to_file=False, country_iso_code=\"FRA\")\n",
    "# tracker.start()"
   ]
  },
  {
   "cell_type": "code",
   "execution_count": 3,
   "metadata": {},
   "outputs": [],
   "source": [
    "import json\n",
    "import os\n",
    "import random\n",
    "import warnings\n",
    "from pathlib import Path\n",
    "import uuid\n",
    "import modin.pandas as pd\n",
    "import pandas\n",
    "import plotly.io as pio\n",
    "import requests\n",
    "from dotenv import load_dotenv\n",
    "from pandas_profiling import ProfileReport\n",
    "from tqdm.notebook import tqdm_notebook as tqdm\n",
    "import time\n",
    "\n",
    "warnings.filterwarnings(\"ignore\", category=UserWarning)\n",
    "warnings.filterwarnings(\"ignore\", category=FutureWarning)\n",
    "\n",
    "\n",
    "pio.renderers.default = \"notebook\"\n",
    "pd.options.plotting.backend = \"plotly\"\n",
    "\n",
    "\n",
    "load_dotenv()\n",
    "\n",
    "AZURE_LANGUAGE_ENDPOINT = os.getenv(\"AZURE_LANGUAGE_ENDPOINT\")\n",
    "AZURE_LANGUAGE_KEY = os.getenv(\"AZURE_LANGUAGE_KEY\")\n",
    "\n",
    "AZURE_LANGUAGE_PROJECT_NAME = \"BookFlight\"\n",
    "AZURE_LANGUAGE_BASE_URL = f\"{ AZURE_LANGUAGE_ENDPOINT }/language/analyze-conversations/projects/{ AZURE_LANGUAGE_PROJECT_NAME }\"\n",
    "AZURE_LANGUAGE_API_VERSION = \"2021-11-01-preview\"\n",
    "\n",
    "UNIQUE_ID = \"-\" + str(uuid.uuid4())\n",
    "\n",
    "TRAIN_TEST_RATIO = 0.8\n",
    "\n",
    "DATA_PATH = Path(\"../data\")\n",
    "FRAMES_JSON_PATH = Path(DATA_PATH, \"raw/frames.json\")"
   ]
  },
  {
   "cell_type": "code",
   "execution_count": 4,
   "metadata": {},
   "outputs": [
    {
     "name": "stdout",
     "output_type": "stream",
     "text": [
      "<Response [202]>\n",
      "<Response [404]>\n"
     ]
    }
   ],
   "source": [
    "purge = False\n",
    "\n",
    "if purge:\n",
    "    url = f\"{AZURE_LANGUAGE_BASE_URL}?api-version={AZURE_LANGUAGE_API_VERSION}\"\n",
    "    headers = {\n",
    "        \"Ocp-Apim-Subscription-Key\": AZURE_LANGUAGE_KEY,\n",
    "    }\n",
    "\n",
    "    response = requests.delete(url=url, headers=headers)\n",
    "    print(response)\n",
    "\n",
    "\n",
    "if purge:\n",
    "    url = f\"{AZURE_LANGUAGE_BASE_URL}/models/{AZURE_LANGUAGE_PROJECT_NAME}?api-version=2021-11-01-preview\"\n",
    "    headers = {\n",
    "        \"Ocp-Apim-Subscription-Key\": AZURE_LANGUAGE_KEY,\n",
    "    }\n",
    "\n",
    "    response = requests.delete(url=url, headers=headers)\n",
    "    print(response)\n"
   ]
  },
  {
   "cell_type": "code",
   "execution_count": 5,
   "metadata": {},
   "outputs": [
    {
     "data": {
      "application/vnd.jupyter.widget-view+json": {
       "model_id": "542502a4d8f54827a3ee92adb0c0fcf8",
       "version_major": 2,
       "version_minor": 0
      },
      "text/plain": [
       "  0%|          | 0/1369 [00:00<?, ?it/s]"
      ]
     },
     "metadata": {},
     "output_type": "display_data"
    },
    {
     "name": "stdout",
     "output_type": "stream",
     "text": [
      "CPU times: user 14.5 s, sys: 1.55 s, total: 16 s\n",
      "Wall time: 27.4 s\n"
     ]
    }
   ],
   "source": [
    "%%time\n",
    "\n",
    "raw_data = pd.read_json(FRAMES_JSON_PATH)\n",
    "\n",
    "assets = {\n",
    "    \"intents\": [\n",
    "        {\"name\": \"Book\"},\n",
    "        {\"name\": \"Info\"},\n",
    "    ],\n",
    "    \"entities\": [\n",
    "        {\"name\": \"or_city\"},\n",
    "        {\"name\": \"dst_city\"},\n",
    "        {\"name\": \"str_date\"},\n",
    "        {\"name\": \"end_date\"},\n",
    "        {\"name\": \"budget\"},\n",
    "    ],\n",
    "    \"examples\": [],\n",
    "}\n",
    "\n",
    "unique_entities = {e[\"name\"]: [] for e in assets[\"entities\"]}\n",
    "\n",
    "for turn in tqdm(raw_data[\"turns\"]):\n",
    "    for frame in turn:\n",
    "        if frame[\"author\"] == \"wizard\":\n",
    "            continue\n",
    "\n",
    "        is_book = False\n",
    "        entities = []\n",
    "\n",
    "        for act in frame[\"labels\"][\"acts_without_refs\"]:\n",
    "            for arg in act[\"args\"]:\n",
    "                if arg[\"key\"] == \"intent\" and arg[\"val\"] == \"book\":\n",
    "                    is_book = True\n",
    "\n",
    "                if (\n",
    "                    arg[\"key\"] in [e[\"name\"] for e in assets[\"entities\"]]\n",
    "                    and arg[\"val\"] is not None\n",
    "                    and frame[\"text\"].find(arg[\"val\"]) != -1\n",
    "                    and arg[\"val\"] not in unique_entities[arg[\"key\"]]\n",
    "                ):\n",
    "                    unique_entities[arg[\"key\"]].append(arg[\"val\"])\n",
    "                    entity = {\n",
    "                        \"entityName\": arg[\"key\"],\n",
    "                        \"offset\": frame[\"text\"].index(arg[\"val\"]),\n",
    "                        \"length\": len(arg[\"val\"]),\n",
    "                    }\n",
    "                    entities.append(entity)\n",
    "\n",
    "        if len(entities) > 0:\n",
    "            assets[\"examples\"].append(\n",
    "                {\n",
    "                    \"text\": frame[\"text\"],\n",
    "                    \"language\": \"en-us\",\n",
    "                    \"intent\": \"Book\" if is_book else \"Info\",\n",
    "                    \"entities\": entities,\n",
    "                    \"dataset\": \"Train\"\n",
    "                    if random.random() < TRAIN_TEST_RATIO\n",
    "                    else \"Test\",\n",
    "                }\n",
    "            )"
   ]
  },
  {
   "cell_type": "code",
   "execution_count": 6,
   "metadata": {},
   "outputs": [
    {
     "name": "stdout",
     "output_type": "stream",
     "text": [
      "> Status code: 202\n",
      "\n",
      "> Reason: Accepted\n",
      "\n",
      "> Location: https://westeurope.api.cognitive.microsoft.com/language/analyze-conversations/projects/BookFlight/import/jobs/f893b3e3-79aa-4e5e-9c39-40f4c704c783_637889472000000000?api-version=2021-11-01-preview\n",
      "\n"
     ]
    }
   ],
   "source": [
    "## Import\n",
    "\n",
    "url = f\"{ AZURE_LANGUAGE_BASE_URL }/:import?api-version={ AZURE_LANGUAGE_API_VERSION }\"\n",
    "headers = {\n",
    "    \"Ocp-Apim-Subscription-Key\": AZURE_LANGUAGE_KEY,\n",
    "    \"format\": \"clu\",\n",
    "    \"Content-Type\": \"application/json\",\n",
    "}\n",
    "data = {\n",
    "    \"api-version\": AZURE_LANGUAGE_API_VERSION,\n",
    "    \"metadata\": {\n",
    "        \"name\": AZURE_LANGUAGE_PROJECT_NAME,\n",
    "        \"type\": \"Conversation\",\n",
    "        \"multilingual\": False,\n",
    "        \"language\": \"en-us\",\n",
    "        \"settings\": {},\n",
    "    },\n",
    "    \"assets\": assets,\n",
    "}\n",
    "\n",
    "response = requests.post(url=url, headers=headers, data=json.dumps(data))\n",
    "location = response.headers[\"Location\"]\n",
    "\n",
    "print(f\"> Status code: {response.status_code}\\n\")\n",
    "print(f\"> Reason: {response.reason}\\n\")\n",
    "print(f\"> Location: {location}\\n\")"
   ]
  },
  {
   "cell_type": "code",
   "execution_count": 7,
   "metadata": {},
   "outputs": [
    {
     "name": "stdout",
     "output_type": "stream",
     "text": [
      "{\n",
      "    \"jobId\": \"f893b3e3-79aa-4e5e-9c39-40f4c704c783_637889472000000000\",\n",
      "    \"createdDateTime\": \"2022-05-24T19:19:46Z\",\n",
      "    \"lastUpdatedDateTime\": \"2022-05-24T19:19:47Z\",\n",
      "    \"expirationDateTime\": \"2022-05-31T19:19:46Z\",\n",
      "    \"status\": \"succeeded\"\n",
      "}\n"
     ]
    }
   ],
   "source": [
    "response = requests.get(url=location, headers=headers)\n",
    "\n",
    "while not response.json()[\"status\"] == \"succeeded\":\n",
    "    print(\"Waiting...\")\n",
    "    time.sleep(1)\n",
    "    response = requests.get(url=location, headers=headers)\n",
    "    print(f\"Status: {response.json()['status']}\\n\")\n",
    "\n",
    "print(json.dumps(response.json(), indent=4))"
   ]
  },
  {
   "cell_type": "code",
   "execution_count": 8,
   "metadata": {},
   "outputs": [
    {
     "name": "stdout",
     "output_type": "stream",
     "text": [
      "> Status code: 202\n",
      "\n",
      "> Reason: Accepted\n",
      "\n",
      "> Location: https://westeurope.api.cognitive.microsoft.com/language/analyze-conversations/projects/BookFlight/train/jobs/0472dea2-de02-4f8a-9fc5-803e98472f1f_637889472000000000?api-version=2021-11-01-preview\n",
      "\n"
     ]
    }
   ],
   "source": [
    "## Train\n",
    "\n",
    "\n",
    "url = f\"{ AZURE_LANGUAGE_BASE_URL }/:train?api-version={ AZURE_LANGUAGE_API_VERSION }\"\n",
    "headers = {\n",
    "    \"Ocp-Apim-Subscription-Key\": AZURE_LANGUAGE_KEY,\n",
    "    \"format\": \"clu\",\n",
    "    \"Content-Type\": \"application/json\",\n",
    "}\n",
    "data = {\n",
    "    \"modelLabel\": AZURE_LANGUAGE_PROJECT_NAME,\n",
    "    \"RunVerification\": True,\n",
    "    \"evaluationOptions\": {\n",
    "        \"type\": \"set\",\n",
    "    },\n",
    "}\n",
    "\n",
    "response = requests.post(url=url, headers=headers, data=json.dumps(data))\n",
    "location = response.headers[\"Location\"]\n",
    "\n",
    "print(f\"> Status code: {response.status_code}\\n\")\n",
    "print(f\"> Reason: {response.reason}\\n\")\n",
    "print(f\"> Location: {location}\\n\")"
   ]
  },
  {
   "cell_type": "code",
   "execution_count": 9,
   "metadata": {},
   "outputs": [
    {
     "data": {
      "application/vnd.jupyter.widget-view+json": {
       "model_id": "641413d3461341bd9063c4cb3bc02b6a",
       "version_major": 2,
       "version_minor": 0
      },
      "text/plain": [
       "  0%|          | 0/100 [00:00<?, ?it/s]"
      ]
     },
     "metadata": {},
     "output_type": "display_data"
    }
   ],
   "source": [
    "response = requests.get(url=location, headers=headers)\n",
    "\n",
    "with tqdm(total=100) as progress:\n",
    "    p = 0\n",
    "    while not response.json()[\"status\"] == \"succeeded\":\n",
    "        time.sleep(1)\n",
    "        response = requests.get(url=location, headers=headers)\n",
    "        progress.update(response.json()[\"result\"][\"trainStatus\"][\"percentComplete\"] - p)\n",
    "        p = response.json()[\"result\"][\"trainStatus\"][\"percentComplete\"]\n",
    "\n",
    "    progress.update(100 - p)\n",
    "\n",
    "print(json.dumps(response.json(), indent=4))"
   ]
  },
  {
   "cell_type": "code",
   "execution_count": null,
   "metadata": {},
   "outputs": [
    {
     "name": "stderr",
     "output_type": "stream",
     "text": [
      "[codecarbon INFO @ 19:53:47] Energy consumed for RAM : 0.001009 kWh. RAM Power : 5.758007526397705 W\n",
      "[codecarbon INFO @ 19:53:47] Energy consumed for all CPUs : 0.000000 kWh. All CPUs Power : 0.0 W\n",
      "[codecarbon INFO @ 19:53:47] 0.001009 kWh of electricity used since the begining.\n"
     ]
    },
    {
     "data": {
      "text/plain": [
       "5.5489611622562685e-05"
      ]
     },
     "execution_count": 10,
     "metadata": {},
     "output_type": "execute_result"
    }
   ],
   "source": [
    "# tracker.stop()"
   ]
  }
 ],
 "metadata": {
  "interpreter": {
   "hash": "e42e041c1008b7d34ddfdf31400d3c61f06b110b4fcd14ef2472b79108a6b85b"
  },
  "kernelspec": {
   "display_name": "Python 3.9.12 ('env': venv)",
   "language": "python",
   "name": "python3"
  },
  "language_info": {
   "codemirror_mode": {
    "name": "ipython",
    "version": 3
   },
   "file_extension": ".py",
   "mimetype": "text/x-python",
   "name": "python",
   "nbconvert_exporter": "python",
   "pygments_lexer": "ipython3",
   "version": "3.9.13"
  },
  "orig_nbformat": 4
 },
 "nbformat": 4,
 "nbformat_minor": 2
}
