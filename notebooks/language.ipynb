{
 "cells": [
  {
   "cell_type": "code",
   "execution_count": 1,
   "metadata": {},
   "outputs": [
    {
     "name": "stdout",
     "output_type": "stream",
     "text": [
      ">>> Downloading and saving data files...\n",
      "Data files already downloaded.\n",
      ">>> OK.\n",
      "\n"
     ]
    }
   ],
   "source": [
    "!cd .. && make dataset && cd notebooks"
   ]
  },
  {
   "cell_type": "code",
   "execution_count": 2,
   "metadata": {},
   "outputs": [
    {
     "name": "stderr",
     "output_type": "stream",
     "text": [
      "[codecarbon INFO @ 19:43:15] offline tracker init\n",
      "[codecarbon INFO @ 19:43:15] [setup] RAM Tracking...\n",
      "[codecarbon INFO @ 19:43:15] [setup] GPU Tracking...\n",
      "[codecarbon INFO @ 19:43:15] No GPU found.\n",
      "[codecarbon INFO @ 19:43:15] [setup] CPU Tracking...\n",
      "[codecarbon ERROR @ 19:43:15] Unable to read Intel RAPL files for CPU power, we will use a constant for your CPU power. Please view https://github.com/mlco2/codecarbon/issues/244 for workarounds : [Errno 13] Permission denied: '/sys/class/powercap/intel-rapl/intel-rapl:1/energy_uj'\n",
      "[codecarbon ERROR @ 19:43:15] Unable to read Intel RAPL files for CPU power, we will use a constant for your CPU power. Please view https://github.com/mlco2/codecarbon/issues/244 for workarounds : [Errno 13] Permission denied: '/sys/class/powercap/intel-rapl/intel-rapl:0/energy_uj'\n",
      "[codecarbon INFO @ 19:43:15] Tracking Intel CPU via RAPL interface\n",
      "[codecarbon ERROR @ 19:43:16] Unable to read Intel RAPL files for CPU power, we will use a constant for your CPU power. Please view https://github.com/mlco2/codecarbon/issues/244 for workarounds : [Errno 13] Permission denied: '/sys/class/powercap/intel-rapl/intel-rapl:1/energy_uj'\n",
      "[codecarbon ERROR @ 19:43:16] Unable to read Intel RAPL files for CPU power, we will use a constant for your CPU power. Please view https://github.com/mlco2/codecarbon/issues/244 for workarounds : [Errno 13] Permission denied: '/sys/class/powercap/intel-rapl/intel-rapl:0/energy_uj'\n",
      "[codecarbon INFO @ 19:43:16] >>> Tracker's metadata:\n",
      "[codecarbon INFO @ 19:43:16]   Platform system: Linux-5.15.0-30-generic-x86_64-with-glibc2.35\n",
      "[codecarbon INFO @ 19:43:16]   Python version: 3.9.13\n",
      "[codecarbon INFO @ 19:43:16]   Available RAM : 15.355 GB\n",
      "[codecarbon INFO @ 19:43:16]   CPU count: 8\n",
      "[codecarbon INFO @ 19:43:16]   CPU model: Intel(R) Core(TM) i5-8265U CPU @ 1.60GHz\n",
      "[codecarbon INFO @ 19:43:16]   GPU count: None\n",
      "[codecarbon INFO @ 19:43:16]   GPU model: None\n"
     ]
    }
   ],
   "source": [
    "# from codecarbon import OfflineEmissionsTracker\n",
    "\n",
    "# tracker = OfflineEmissionsTracker(save_to_file=False, country_iso_code=\"FRA\")\n",
    "# tracker.start()"
   ]
  },
  {
   "cell_type": "code",
   "execution_count": 3,
   "metadata": {},
   "outputs": [],
   "source": [
    "import json\n",
    "import os\n",
    "import random\n",
    "import warnings\n",
    "from pathlib import Path\n",
    "import uuid\n",
    "import modin.pandas as pd\n",
    "import pandas\n",
    "import plotly.io as pio\n",
    "import requests\n",
    "from dotenv import load_dotenv\n",
    "from pandas_profiling import ProfileReport\n",
    "from tqdm.notebook import tqdm_notebook as tqdm\n",
    "import time\n",
    "\n",
    "warnings.filterwarnings(\"ignore\", category=UserWarning)\n",
    "warnings.filterwarnings(\"ignore\", category=FutureWarning)\n",
    "\n",
    "\n",
    "pio.renderers.default = \"notebook\"\n",
    "pd.options.plotting.backend = \"plotly\"\n",
    "\n",
    "\n",
    "load_dotenv()\n",
    "\n",
    "AZURE_LANGUAGE_ENDPOINT = os.getenv(\"AZURE_LANGUAGE_ENDPOINT\")\n",
    "AZURE_LANGUAGE_KEY = os.getenv(\"AZURE_LANGUAGE_KEY\")\n",
    "\n",
    "AZURE_LANGUAGE_PROJECT_NAME = \"BookFlight\"\n",
    "AZURE_LANGUAGE_BASE_URL = f\"{ AZURE_LANGUAGE_ENDPOINT }/language/analyze-conversations/projects/{ AZURE_LANGUAGE_PROJECT_NAME }\"\n",
    "AZURE_LANGUAGE_API_VERSION = \"2021-11-01-preview\"\n",
    "\n",
    "UNIQUE_ID = \"-\"+str(uuid.uuid4())\n",
    "\n",
    "TRAIN_TEST_RATIO = 0.8\n",
    "\n",
    "DATA_PATH = Path(\"../data\")\n",
    "FRAMES_JSON_PATH = Path(DATA_PATH, \"raw/frames.json\")\n"
   ]
  },
  {
   "cell_type": "code",
   "execution_count": 4,
   "metadata": {},
   "outputs": [],
   "source": [
    "if False:\n",
    "    project_name = \"BookFlight\"\n",
    "    url = f\"{AZURE_LANGUAGE_BASE_URL}?api-version={AZURE_LANGUAGE_API_VERSION}\"\n",
    "    headers = {\n",
    "        \"Ocp-Apim-Subscription-Key\": AZURE_LANGUAGE_KEY,\n",
    "    }\n",
    "\n",
    "    response = requests.delete(url=url, headers=headers)        \n",
    "    print(response)\n",
    "\n",
    "\n",
    "if False:\n",
    "    project_name = \"BookFlight\"\n",
    "    model_name = \"BookFlight\"\n",
    "    url = f\"{AZURE_LANGUAGE_BASE_URL}/models/{model_name}?api-version=2021-11-01-preview\"\n",
    "    headers = {\n",
    "        \"Ocp-Apim-Subscription-Key\": AZURE_LANGUAGE_KEY,\n",
    "    }\n",
    "\n",
    "    response = requests.delete(url=url, headers=headers)\n",
    "    print(response)\n",
    "\n"
   ]
  },
  {
   "cell_type": "code",
   "execution_count": 5,
   "metadata": {},
   "outputs": [
    {
     "data": {
      "application/vnd.jupyter.widget-view+json": {
       "model_id": "47fd1f60bd054dc4a16bf2b3501b0f07",
       "version_major": 2,
       "version_minor": 0
      },
      "text/plain": [
       "  0%|          | 0/1369 [00:00<?, ?it/s]"
      ]
     },
     "metadata": {},
     "output_type": "display_data"
    },
    {
     "name": "stderr",
     "output_type": "stream",
     "text": [
      "[codecarbon INFO @ 19:43:31] Energy consumed for RAM : 0.000024 kWh. RAM Power : 5.758007526397705 W\n",
      "[codecarbon INFO @ 19:43:31] Energy consumed for all CPUs : 0.000000 kWh. All CPUs Power : 0.0 W\n",
      "[codecarbon INFO @ 19:43:31] 0.000024 kWh of electricity used since the begining.\n"
     ]
    },
    {
     "name": "stdout",
     "output_type": "stream",
     "text": [
      "CPU times: user 10.6 s, sys: 980 ms, total: 11.5 s\n",
      "Wall time: 19.2 s\n"
     ]
    }
   ],
   "source": [
    "%%time\n",
    "\n",
    "raw_data = pd.read_json(FRAMES_JSON_PATH)\n",
    "\n",
    "assets = {\n",
    "    \"intents\": [\n",
    "        {\"name\": \"Book\"},\n",
    "        {\"name\": \"Info\"},\n",
    "    ],\n",
    "    \"entities\": [\n",
    "        {\"name\": \"or_city\"},\n",
    "        {\"name\": \"dst_city\"},\n",
    "        {\"name\": \"str_date\"},\n",
    "        {\"name\": \"end_date\"},\n",
    "        {\"name\": \"budget\"},\n",
    "    ],\n",
    "    \"examples\": [],\n",
    "}\n",
    "\n",
    "unique_entities = {e[\"name\"]: [] for e in assets[\"entities\"]}\n",
    "\n",
    "for turn in tqdm(raw_data[\"turns\"]):\n",
    "    for frame in turn:\n",
    "        if frame[\"author\"] == \"wizard\":\n",
    "            continue\n",
    "\n",
    "        is_book = False\n",
    "        entities = []\n",
    "\n",
    "        for act in frame[\"labels\"][\"acts_without_refs\"]:\n",
    "            for arg in act[\"args\"]:\n",
    "                if arg[\"key\"] == \"intent\" and arg[\"val\"] == \"book\":\n",
    "                    is_book = True\n",
    "\n",
    "                if (\n",
    "                    arg[\"key\"] in [e[\"name\"] for e in assets[\"entities\"]]\n",
    "                    and arg[\"val\"] is not None\n",
    "                    and frame[\"text\"].find(arg[\"val\"]) != -1\n",
    "                    and arg[\"val\"] not in unique_entities[arg[\"key\"]]\n",
    "                ):\n",
    "                    unique_entities[arg[\"key\"]].append(arg[\"val\"])\n",
    "                    entity = {\n",
    "                        \"entityName\": arg[\"key\"],\n",
    "                        \"offset\": frame[\"text\"].index(arg[\"val\"]),\n",
    "                        \"length\": len(arg[\"val\"]),\n",
    "                    }\n",
    "                    entities.append(entity)\n",
    "\n",
    "        if len(entities) > 0:\n",
    "            assets[\"examples\"].append(\n",
    "                {\n",
    "                    \"text\": frame[\"text\"],\n",
    "                    \"language\": \"en-us\",\n",
    "                    \"intent\": \"Book\" if is_book else \"Info\",\n",
    "                    \"entities\": entities,\n",
    "                    \"dataset\": \"Train\" if random.random() < TRAIN_TEST_RATIO else \"Test\",\n",
    "                }\n",
    "            )"
   ]
  },
  {
   "cell_type": "code",
   "execution_count": 6,
   "metadata": {},
   "outputs": [
    {
     "name": "stdout",
     "output_type": "stream",
     "text": [
      "> Status code: 202\n",
      "\n",
      "> Reason: Accepted\n",
      "\n",
      "> Location: https://westeurope.api.cognitive.microsoft.com/language/analyze-conversations/projects/BookFlight/import/jobs/2f785f00-e87c-414b-a049-c7d1b78160c5_637889472000000000?api-version=2021-11-01-preview\n",
      "\n"
     ]
    }
   ],
   "source": [
    "## Import\n",
    "\n",
    "url = f\"{ AZURE_LANGUAGE_BASE_URL }/:import?api-version={ AZURE_LANGUAGE_API_VERSION }\"\n",
    "headers = {\n",
    "    \"Ocp-Apim-Subscription-Key\": AZURE_LANGUAGE_KEY,\n",
    "    \"format\": \"clu\",\n",
    "    \"Content-Type\": \"application/json\",\n",
    "}\n",
    "data = {\n",
    "    \"api-version\": AZURE_LANGUAGE_API_VERSION,\n",
    "    \"metadata\": {\n",
    "        \"name\": AZURE_LANGUAGE_PROJECT_NAME,\n",
    "        \"type\": \"Conversation\",\n",
    "        \"multilingual\": False,\n",
    "        \"language\": \"en-us\",\n",
    "        \"settings\": {},\n",
    "    },\n",
    "    \"assets\": assets,\n",
    "}\n",
    "\n",
    "response = requests.post(url=url, headers=headers, data=json.dumps(data))\n",
    "location = response.headers[\"Location\"]\n",
    "\n",
    "print(f\"> Status code: {response.status_code}\\n\")\n",
    "print(f\"> Reason: {response.reason}\\n\")\n",
    "print(f\"> Location: {location}\\n\")\n"
   ]
  },
  {
   "cell_type": "code",
   "execution_count": 7,
   "metadata": {},
   "outputs": [
    {
     "name": "stdout",
     "output_type": "stream",
     "text": [
      "{\n",
      "    \"jobId\": \"2f785f00-e87c-414b-a049-c7d1b78160c5_637889472000000000\",\n",
      "    \"createdDateTime\": \"2022-05-24T17:43:38Z\",\n",
      "    \"lastUpdatedDateTime\": \"2022-05-24T17:43:39Z\",\n",
      "    \"expirationDateTime\": \"2022-05-31T17:43:38Z\",\n",
      "    \"status\": \"succeeded\"\n",
      "}\n"
     ]
    }
   ],
   "source": [
    "response = requests.get(url=location, headers=headers)\n",
    "\n",
    "while not response.json()[\"status\"] == \"succeeded\":\n",
    "    print(\"Waiting...\")\n",
    "    time.sleep(1)\n",
    "    response = requests.get(url=location, headers=headers)\n",
    "    print(f\"Status: {response.json()['status']}\\n\")\n",
    "    \n",
    "print(json.dumps(response.json(), indent=4))\n"
   ]
  },
  {
   "cell_type": "code",
   "execution_count": 8,
   "metadata": {},
   "outputs": [
    {
     "name": "stdout",
     "output_type": "stream",
     "text": [
      "> Status code: 202\n",
      "\n",
      "> Reason: Accepted\n",
      "\n",
      "> Location: https://westeurope.api.cognitive.microsoft.com/language/analyze-conversations/projects/BookFlight/train/jobs/89a75e9f-e123-4f5b-af1b-4ae7739b6a8c_637889472000000000?api-version=2021-11-01-preview\n",
      "\n"
     ]
    }
   ],
   "source": [
    "## Train\n",
    "\n",
    "\n",
    "url = f\"{ AZURE_LANGUAGE_BASE_URL }/:train?api-version={ AZURE_LANGUAGE_API_VERSION }\"\n",
    "headers = {\n",
    "    \"Ocp-Apim-Subscription-Key\": AZURE_LANGUAGE_KEY,\n",
    "    \"format\": \"clu\",\n",
    "    \"Content-Type\": \"application/json\",\n",
    "}\n",
    "data = {\n",
    "    \"modelLabel\": AZURE_LANGUAGE_PROJECT_NAME,\n",
    "    \"RunVerification\": True,\n",
    "    \"evaluationOptions\": {\n",
    "        \"type\": \"set\", \n",
    "    },\n",
    "}\n",
    "\n",
    "response = requests.post(url=url, headers=headers, data=json.dumps(data))\n",
    "location = response.headers[\"Location\"]\n",
    "\n",
    "print(f\"> Status code: {response.status_code}\\n\")\n",
    "print(f\"> Reason: {response.reason}\\n\")\n",
    "print(f\"> Location: {location}\\n\")\n",
    "\n"
   ]
  },
  {
   "cell_type": "code",
   "execution_count": 9,
   "metadata": {},
   "outputs": [
    {
     "data": {
      "application/vnd.jupyter.widget-view+json": {
       "model_id": "74f696464d464389a79509977a20a192",
       "version_major": 2,
       "version_minor": 0
      },
      "text/plain": [
       "  0%|          | 0/100 [00:00<?, ?it/s]"
      ]
     },
     "metadata": {},
     "output_type": "display_data"
    },
    {
     "name": "stderr",
     "output_type": "stream",
     "text": [
      "[codecarbon INFO @ 19:43:46] Energy consumed for RAM : 0.000048 kWh. RAM Power : 5.758007526397705 W\n",
      "[codecarbon INFO @ 19:43:46] Energy consumed for all CPUs : 0.000000 kWh. All CPUs Power : 0.0 W\n",
      "[codecarbon INFO @ 19:43:46] 0.000048 kWh of electricity used since the begining.\n",
      "[codecarbon INFO @ 19:44:01] Energy consumed for RAM : 0.000072 kWh. RAM Power : 5.758007526397705 W\n",
      "[codecarbon INFO @ 19:44:01] Energy consumed for all CPUs : 0.000000 kWh. All CPUs Power : 0.0 W\n",
      "[codecarbon INFO @ 19:44:01] 0.000072 kWh of electricity used since the begining.\n",
      "[codecarbon INFO @ 19:44:16] Energy consumed for RAM : 0.000096 kWh. RAM Power : 5.758007526397705 W\n",
      "[codecarbon INFO @ 19:44:16] Energy consumed for all CPUs : 0.000000 kWh. All CPUs Power : 0.0 W\n",
      "[codecarbon INFO @ 19:44:16] 0.000096 kWh of electricity used since the begining.\n",
      "[codecarbon INFO @ 19:44:31] Energy consumed for RAM : 0.000120 kWh. RAM Power : 5.758007526397705 W\n",
      "[codecarbon INFO @ 19:44:31] Energy consumed for all CPUs : 0.000000 kWh. All CPUs Power : 0.0 W\n",
      "[codecarbon INFO @ 19:44:31] 0.000120 kWh of electricity used since the begining.\n",
      "[codecarbon INFO @ 19:44:46] Energy consumed for RAM : 0.000144 kWh. RAM Power : 5.758007526397705 W\n",
      "[codecarbon INFO @ 19:44:46] Energy consumed for all CPUs : 0.000000 kWh. All CPUs Power : 0.0 W\n",
      "[codecarbon INFO @ 19:44:46] 0.000144 kWh of electricity used since the begining.\n",
      "[codecarbon INFO @ 19:45:01] Energy consumed for RAM : 0.000168 kWh. RAM Power : 5.758007526397705 W\n",
      "[codecarbon INFO @ 19:45:01] Energy consumed for all CPUs : 0.000000 kWh. All CPUs Power : 0.0 W\n",
      "[codecarbon INFO @ 19:45:01] 0.000168 kWh of electricity used since the begining.\n",
      "[codecarbon INFO @ 19:45:16] Energy consumed for RAM : 0.000192 kWh. RAM Power : 5.758007526397705 W\n",
      "[codecarbon INFO @ 19:45:16] Energy consumed for all CPUs : 0.000000 kWh. All CPUs Power : 0.0 W\n",
      "[codecarbon INFO @ 19:45:16] 0.000192 kWh of electricity used since the begining.\n",
      "[codecarbon INFO @ 19:45:31] Energy consumed for RAM : 0.000216 kWh. RAM Power : 5.758007526397705 W\n",
      "[codecarbon INFO @ 19:45:31] Energy consumed for all CPUs : 0.000000 kWh. All CPUs Power : 0.0 W\n",
      "[codecarbon INFO @ 19:45:31] 0.000216 kWh of electricity used since the begining.\n",
      "[codecarbon INFO @ 19:45:46] Energy consumed for RAM : 0.000240 kWh. RAM Power : 5.758007526397705 W\n",
      "[codecarbon INFO @ 19:45:46] Energy consumed for all CPUs : 0.000000 kWh. All CPUs Power : 0.0 W\n",
      "[codecarbon INFO @ 19:45:46] 0.000240 kWh of electricity used since the begining.\n",
      "[codecarbon INFO @ 19:46:01] Energy consumed for RAM : 0.000264 kWh. RAM Power : 5.758007526397705 W\n",
      "[codecarbon INFO @ 19:46:01] Energy consumed for all CPUs : 0.000000 kWh. All CPUs Power : 0.0 W\n",
      "[codecarbon INFO @ 19:46:01] 0.000264 kWh of electricity used since the begining.\n",
      "[codecarbon INFO @ 19:46:16] Energy consumed for RAM : 0.000288 kWh. RAM Power : 5.758007526397705 W\n",
      "[codecarbon INFO @ 19:46:16] Energy consumed for all CPUs : 0.000000 kWh. All CPUs Power : 0.0 W\n",
      "[codecarbon INFO @ 19:46:16] 0.000288 kWh of electricity used since the begining.\n",
      "[codecarbon INFO @ 19:46:31] Energy consumed for RAM : 0.000312 kWh. RAM Power : 5.758007526397705 W\n",
      "[codecarbon INFO @ 19:46:31] Energy consumed for all CPUs : 0.000000 kWh. All CPUs Power : 0.0 W\n",
      "[codecarbon INFO @ 19:46:31] 0.000312 kWh of electricity used since the begining.\n",
      "[codecarbon INFO @ 19:46:46] Energy consumed for RAM : 0.000336 kWh. RAM Power : 5.758007526397705 W\n",
      "[codecarbon INFO @ 19:46:46] Energy consumed for all CPUs : 0.000000 kWh. All CPUs Power : 0.0 W\n",
      "[codecarbon INFO @ 19:46:46] 0.000336 kWh of electricity used since the begining.\n",
      "[codecarbon INFO @ 19:47:01] Energy consumed for RAM : 0.000360 kWh. RAM Power : 5.758007526397705 W\n",
      "[codecarbon INFO @ 19:47:01] Energy consumed for all CPUs : 0.000000 kWh. All CPUs Power : 0.0 W\n",
      "[codecarbon INFO @ 19:47:01] 0.000360 kWh of electricity used since the begining.\n",
      "[codecarbon INFO @ 19:47:16] Energy consumed for RAM : 0.000384 kWh. RAM Power : 5.758007526397705 W\n",
      "[codecarbon INFO @ 19:47:16] Energy consumed for all CPUs : 0.000000 kWh. All CPUs Power : 0.0 W\n",
      "[codecarbon INFO @ 19:47:16] 0.000384 kWh of electricity used since the begining.\n",
      "[codecarbon INFO @ 19:47:31] Energy consumed for RAM : 0.000408 kWh. RAM Power : 5.758007526397705 W\n",
      "[codecarbon INFO @ 19:47:31] Energy consumed for all CPUs : 0.000000 kWh. All CPUs Power : 0.0 W\n",
      "[codecarbon INFO @ 19:47:31] 0.000408 kWh of electricity used since the begining.\n",
      "[codecarbon INFO @ 19:47:46] Energy consumed for RAM : 0.000432 kWh. RAM Power : 5.758007526397705 W\n",
      "[codecarbon INFO @ 19:47:46] Energy consumed for all CPUs : 0.000000 kWh. All CPUs Power : 0.0 W\n",
      "[codecarbon INFO @ 19:47:46] 0.000432 kWh of electricity used since the begining.\n",
      "[codecarbon INFO @ 19:48:01] Energy consumed for RAM : 0.000456 kWh. RAM Power : 5.758007526397705 W\n",
      "[codecarbon INFO @ 19:48:01] Energy consumed for all CPUs : 0.000000 kWh. All CPUs Power : 0.0 W\n",
      "[codecarbon INFO @ 19:48:01] 0.000456 kWh of electricity used since the begining.\n",
      "[codecarbon INFO @ 19:48:16] Energy consumed for RAM : 0.000480 kWh. RAM Power : 5.758007526397705 W\n",
      "[codecarbon INFO @ 19:48:16] Energy consumed for all CPUs : 0.000000 kWh. All CPUs Power : 0.0 W\n",
      "[codecarbon INFO @ 19:48:16] 0.000480 kWh of electricity used since the begining.\n",
      "[codecarbon INFO @ 19:48:31] Energy consumed for RAM : 0.000504 kWh. RAM Power : 5.758007526397705 W\n",
      "[codecarbon INFO @ 19:48:31] Energy consumed for all CPUs : 0.000000 kWh. All CPUs Power : 0.0 W\n",
      "[codecarbon INFO @ 19:48:31] 0.000504 kWh of electricity used since the begining.\n",
      "[codecarbon INFO @ 19:48:46] Energy consumed for RAM : 0.000528 kWh. RAM Power : 5.758007526397705 W\n",
      "[codecarbon INFO @ 19:48:46] Energy consumed for all CPUs : 0.000000 kWh. All CPUs Power : 0.0 W\n",
      "[codecarbon INFO @ 19:48:46] 0.000528 kWh of electricity used since the begining.\n",
      "[codecarbon INFO @ 19:49:01] Energy consumed for RAM : 0.000552 kWh. RAM Power : 5.758007526397705 W\n",
      "[codecarbon INFO @ 19:49:01] Energy consumed for all CPUs : 0.000000 kWh. All CPUs Power : 0.0 W\n",
      "[codecarbon INFO @ 19:49:01] 0.000552 kWh of electricity used since the begining.\n",
      "[codecarbon INFO @ 19:49:16] Energy consumed for RAM : 0.000576 kWh. RAM Power : 5.758007526397705 W\n",
      "[codecarbon INFO @ 19:49:16] Energy consumed for all CPUs : 0.000000 kWh. All CPUs Power : 0.0 W\n",
      "[codecarbon INFO @ 19:49:16] 0.000576 kWh of electricity used since the begining.\n",
      "[codecarbon INFO @ 19:49:31] Energy consumed for RAM : 0.000600 kWh. RAM Power : 5.758007526397705 W\n",
      "[codecarbon INFO @ 19:49:31] Energy consumed for all CPUs : 0.000000 kWh. All CPUs Power : 0.0 W\n",
      "[codecarbon INFO @ 19:49:31] 0.000600 kWh of electricity used since the begining.\n",
      "[codecarbon INFO @ 19:49:46] Energy consumed for RAM : 0.000623 kWh. RAM Power : 5.758007526397705 W\n",
      "[codecarbon INFO @ 19:49:46] Energy consumed for all CPUs : 0.000000 kWh. All CPUs Power : 0.0 W\n",
      "[codecarbon INFO @ 19:49:46] 0.000623 kWh of electricity used since the begining.\n",
      "[codecarbon INFO @ 19:50:01] Energy consumed for RAM : 0.000647 kWh. RAM Power : 5.758007526397705 W\n",
      "[codecarbon INFO @ 19:50:01] Energy consumed for all CPUs : 0.000000 kWh. All CPUs Power : 0.0 W\n",
      "[codecarbon INFO @ 19:50:01] 0.000647 kWh of electricity used since the begining.\n",
      "[codecarbon INFO @ 19:50:16] Energy consumed for RAM : 0.000671 kWh. RAM Power : 5.758007526397705 W\n",
      "[codecarbon INFO @ 19:50:16] Energy consumed for all CPUs : 0.000000 kWh. All CPUs Power : 0.0 W\n",
      "[codecarbon INFO @ 19:50:16] 0.000671 kWh of electricity used since the begining.\n",
      "[codecarbon INFO @ 19:50:31] Energy consumed for RAM : 0.000695 kWh. RAM Power : 5.758007526397705 W\n",
      "[codecarbon INFO @ 19:50:31] Energy consumed for all CPUs : 0.000000 kWh. All CPUs Power : 0.0 W\n",
      "[codecarbon INFO @ 19:50:31] 0.000695 kWh of electricity used since the begining.\n",
      "[codecarbon INFO @ 19:50:46] Energy consumed for RAM : 0.000719 kWh. RAM Power : 5.758007526397705 W\n",
      "[codecarbon INFO @ 19:50:46] Energy consumed for all CPUs : 0.000000 kWh. All CPUs Power : 0.0 W\n",
      "[codecarbon INFO @ 19:50:46] 0.000719 kWh of electricity used since the begining.\n",
      "[codecarbon INFO @ 19:51:01] Energy consumed for RAM : 0.000743 kWh. RAM Power : 5.758007526397705 W\n",
      "[codecarbon INFO @ 19:51:01] Energy consumed for all CPUs : 0.000000 kWh. All CPUs Power : 0.0 W\n",
      "[codecarbon INFO @ 19:51:01] 0.000743 kWh of electricity used since the begining.\n",
      "[codecarbon INFO @ 19:51:16] Energy consumed for RAM : 0.000767 kWh. RAM Power : 5.758007526397705 W\n",
      "[codecarbon INFO @ 19:51:16] Energy consumed for all CPUs : 0.000000 kWh. All CPUs Power : 0.0 W\n",
      "[codecarbon INFO @ 19:51:16] 0.000767 kWh of electricity used since the begining.\n",
      "[codecarbon INFO @ 19:51:31] Energy consumed for RAM : 0.000791 kWh. RAM Power : 5.758007526397705 W\n",
      "[codecarbon INFO @ 19:51:31] Energy consumed for all CPUs : 0.000000 kWh. All CPUs Power : 0.0 W\n",
      "[codecarbon INFO @ 19:51:31] 0.000791 kWh of electricity used since the begining.\n",
      "[codecarbon INFO @ 19:51:46] Energy consumed for RAM : 0.000815 kWh. RAM Power : 5.758007526397705 W\n",
      "[codecarbon INFO @ 19:51:46] Energy consumed for all CPUs : 0.000000 kWh. All CPUs Power : 0.0 W\n",
      "[codecarbon INFO @ 19:51:46] 0.000815 kWh of electricity used since the begining.\n",
      "[codecarbon INFO @ 19:52:01] Energy consumed for RAM : 0.000839 kWh. RAM Power : 5.758007526397705 W\n",
      "[codecarbon INFO @ 19:52:01] Energy consumed for all CPUs : 0.000000 kWh. All CPUs Power : 0.0 W\n",
      "[codecarbon INFO @ 19:52:01] 0.000839 kWh of electricity used since the begining.\n",
      "[codecarbon INFO @ 19:52:16] Energy consumed for RAM : 0.000863 kWh. RAM Power : 5.758007526397705 W\n",
      "[codecarbon INFO @ 19:52:16] Energy consumed for all CPUs : 0.000000 kWh. All CPUs Power : 0.0 W\n",
      "[codecarbon INFO @ 19:52:16] 0.000863 kWh of electricity used since the begining.\n",
      "[codecarbon INFO @ 19:52:31] Energy consumed for RAM : 0.000887 kWh. RAM Power : 5.758007526397705 W\n",
      "[codecarbon INFO @ 19:52:31] Energy consumed for all CPUs : 0.000000 kWh. All CPUs Power : 0.0 W\n",
      "[codecarbon INFO @ 19:52:31] 0.000887 kWh of electricity used since the begining.\n",
      "[codecarbon INFO @ 19:52:46] Energy consumed for RAM : 0.000911 kWh. RAM Power : 5.758007526397705 W\n",
      "[codecarbon INFO @ 19:52:46] Energy consumed for all CPUs : 0.000000 kWh. All CPUs Power : 0.0 W\n",
      "[codecarbon INFO @ 19:52:46] 0.000911 kWh of electricity used since the begining.\n",
      "[codecarbon INFO @ 19:53:01] Energy consumed for RAM : 0.000935 kWh. RAM Power : 5.758007526397705 W\n",
      "[codecarbon INFO @ 19:53:01] Energy consumed for all CPUs : 0.000000 kWh. All CPUs Power : 0.0 W\n",
      "[codecarbon INFO @ 19:53:01] 0.000935 kWh of electricity used since the begining.\n",
      "[codecarbon INFO @ 19:53:16] Energy consumed for RAM : 0.000959 kWh. RAM Power : 5.758007526397705 W\n",
      "[codecarbon INFO @ 19:53:16] Energy consumed for all CPUs : 0.000000 kWh. All CPUs Power : 0.0 W\n",
      "[codecarbon INFO @ 19:53:16] 0.000959 kWh of electricity used since the begining.\n",
      "[codecarbon INFO @ 19:53:31] Energy consumed for RAM : 0.000983 kWh. RAM Power : 5.758007526397705 W\n",
      "[codecarbon INFO @ 19:53:31] Energy consumed for all CPUs : 0.000000 kWh. All CPUs Power : 0.0 W\n",
      "[codecarbon INFO @ 19:53:31] 0.000983 kWh of electricity used since the begining.\n",
      "[codecarbon INFO @ 19:53:46] Energy consumed for RAM : 0.001007 kWh. RAM Power : 5.758007526397705 W\n",
      "[codecarbon INFO @ 19:53:46] Energy consumed for all CPUs : 0.000000 kWh. All CPUs Power : 0.0 W\n",
      "[codecarbon INFO @ 19:53:46] 0.001007 kWh of electricity used since the begining.\n"
     ]
    },
    {
     "name": "stdout",
     "output_type": "stream",
     "text": [
      "{\n",
      "    \"result\": {\n",
      "        \"trainedModelLabel\": \"BookFlight\",\n",
      "        \"trainStatus\": {\n",
      "            \"percentComplete\": 100,\n",
      "            \"elapsedTime\": \"00:09:35\"\n",
      "        },\n",
      "        \"evaluationStatus\": {\n",
      "            \"percentComplete\": 100,\n",
      "            \"elapsedTime\": \"00:00:06\"\n",
      "        }\n",
      "    },\n",
      "    \"jobId\": \"89a75e9f-e123-4f5b-af1b-4ae7739b6a8c_637889472000000000\",\n",
      "    \"createdDateTime\": \"2022-05-24T17:43:40Z\",\n",
      "    \"lastUpdatedDateTime\": \"2022-05-24T17:53:47Z\",\n",
      "    \"expirationDateTime\": \"2022-05-31T17:43:40Z\",\n",
      "    \"status\": \"succeeded\"\n",
      "}\n"
     ]
    }
   ],
   "source": [
    "response = requests.get(url=location, headers=headers)\n",
    "\n",
    "with tqdm(total=100) as progress:\n",
    "    p = 0\n",
    "    while not response.json()[\"status\"] == \"succeeded\":\n",
    "        time.sleep(1)\n",
    "        response = requests.get(url=location, headers=headers)\n",
    "        progress.update(\n",
    "            response.json()[\"result\"][\"trainStatus\"][\"percentComplete\"] - p\n",
    "        )\n",
    "        p = response.json()[\"result\"][\"trainStatus\"][\"percentComplete\"]\n",
    "\n",
    "    progress.update(100-p)\n",
    "\n",
    "print(json.dumps(response.json(), indent=4))\n"
   ]
  },
  {
   "cell_type": "code",
   "execution_count": 10,
   "metadata": {},
   "outputs": [
    {
     "name": "stderr",
     "output_type": "stream",
     "text": [
      "[codecarbon INFO @ 19:53:47] Energy consumed for RAM : 0.001009 kWh. RAM Power : 5.758007526397705 W\n",
      "[codecarbon INFO @ 19:53:47] Energy consumed for all CPUs : 0.000000 kWh. All CPUs Power : 0.0 W\n",
      "[codecarbon INFO @ 19:53:47] 0.001009 kWh of electricity used since the begining.\n"
     ]
    },
    {
     "data": {
      "text/plain": [
       "5.5489611622562685e-05"
      ]
     },
     "execution_count": 10,
     "metadata": {},
     "output_type": "execute_result"
    }
   ],
   "source": [
    "# tracker.stop()"
   ]
  }
 ],
 "metadata": {
  "interpreter": {
   "hash": "e42e041c1008b7d34ddfdf31400d3c61f06b110b4fcd14ef2472b79108a6b85b"
  },
  "kernelspec": {
   "display_name": "Python 3.9.12 ('env': venv)",
   "language": "python",
   "name": "python3"
  },
  "language_info": {
   "codemirror_mode": {
    "name": "ipython",
    "version": 3
   },
   "file_extension": ".py",
   "mimetype": "text/x-python",
   "name": "python",
   "nbconvert_exporter": "python",
   "pygments_lexer": "ipython3",
   "version": "3.9.13"
  },
  "orig_nbformat": 4
 },
 "nbformat": 4,
 "nbformat_minor": 2
}
