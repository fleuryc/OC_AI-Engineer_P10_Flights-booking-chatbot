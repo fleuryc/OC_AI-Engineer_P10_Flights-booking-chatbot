{
 "cells": [
  {
   "cell_type": "markdown",
   "metadata": {},
   "source": [
    "# LUIS Model\n",
    "\n",
    "In this notebook, we :\n",
    "- create an Azure LUIS **resource**\n",
    "- add the **intents** and **entities**\n",
    "- **format** the data to be compatible with LUIS\n",
    "- add the **examples**\n",
    "- run a LUIS model **training**"
   ]
  },
  {
   "cell_type": "code",
   "execution_count": 1,
   "metadata": {},
   "outputs": [
    {
     "name": "stdout",
     "output_type": "stream",
     "text": [
      ">>> Downloading and saving data files...\n",
      "Data files already downloaded.\n",
      ">>> OK.\n",
      "\n"
     ]
    }
   ],
   "source": [
    "## Download and extract dataset files\n",
    "\n",
    "!cd .. && make dataset && cd notebooks"
   ]
  },
  {
   "cell_type": "code",
   "execution_count": 3,
   "metadata": {},
   "outputs": [],
   "source": [
    "## Import and configure libraries\n",
    "\n",
    "import json\n",
    "import os\n",
    "import random\n",
    "import time\n",
    "import uuid\n",
    "import warnings\n",
    "from functools import reduce\n",
    "from pathlib import Path\n",
    "\n",
    "import modin.pandas as pd\n",
    "import pandas\n",
    "import plotly.io as pio\n",
    "import requests\n",
    "from azure.cognitiveservices.language.luis.authoring import LUISAuthoringClient\n",
    "from azure.cognitiveservices.language.luis.authoring.models import (\n",
    "    ApplicationCreateObject,\n",
    "    ExampleLabelObject,\n",
    "    EntityLabelObject,\n",
    ")\n",
    "from azure.cognitiveservices.language.luis.runtime import LUISRuntimeClient\n",
    "from dotenv import load_dotenv\n",
    "from msrest.authentication import CognitiveServicesCredentials\n",
    "from pandas_profiling import ProfileReport\n",
    "from tqdm.notebook import tqdm_notebook as tqdm\n",
    "\n",
    "warnings.filterwarnings(\"ignore\", category=UserWarning)\n",
    "warnings.filterwarnings(\"ignore\", category=FutureWarning)\n",
    "\n",
    "\n",
    "pio.renderers.default = \"notebook\"\n",
    "pd.options.plotting.backend = \"plotly\"\n",
    "\n",
    "\n",
    "load_dotenv()\n",
    "\n",
    "AZURE_LUIS_ENDPOINT = os.getenv(\"AZURE_LUIS_ENDPOINT\")\n",
    "AZURE_LUIS_KEY = os.getenv(\"AZURE_LUIS_KEY\")\n",
    "\n",
    "AZURE_LUIS_PROJECT_NAME = \"BookFlight\"\n",
    "AZURE_LUIS_PROJECT_VERSION = \"0.1\"\n",
    "\n",
    "DATA_PATH = Path(\"../data\")\n",
    "FRAMES_JSON_PATH = Path(DATA_PATH, \"raw/frames.json\")"
   ]
  },
  {
   "cell_type": "code",
   "execution_count": 4,
   "metadata": {},
   "outputs": [],
   "source": [
    "## Instanciate LUIS Authoring Client\n",
    "\n",
    "client = LUISAuthoringClient(\n",
    "    AZURE_LUIS_ENDPOINT, CognitiveServicesCredentials(AZURE_LUIS_KEY)\n",
    ")"
   ]
  },
  {
   "cell_type": "code",
   "execution_count": 5,
   "metadata": {},
   "outputs": [
    {
     "name": "stdout",
     "output_type": "stream",
     "text": [
      "Created LUIS app with ID 1f93b126-d9e8-42fd-a123-971e67ec6d0e\n"
     ]
    }
   ],
   "source": [
    "## Create the LUIS Application\n",
    "\n",
    "# define app basics\n",
    "appDefinition = ApplicationCreateObject(name=AZURE_LUIS_PROJECT_NAME, culture=\"en-us\")\n",
    "\n",
    "# create app\n",
    "app_id = client.apps.add(appDefinition)\n",
    "\n",
    "# get app id - necessary for all other changes\n",
    "print(\"Created LUIS app with ID {}\".format(app_id))"
   ]
  },
  {
   "cell_type": "code",
   "execution_count": 6,
   "metadata": {},
   "outputs": [],
   "source": [
    "## Add Intents\n",
    "\n",
    "book_id = client.model.add_intent(\n",
    "    app_id=app_id, version_id=AZURE_LUIS_PROJECT_VERSION, name=\"Book\"\n",
    ")\n",
    "info_id = client.model.add_intent(\n",
    "    app_id=app_id, version_id=AZURE_LUIS_PROJECT_VERSION, name=\"Info\"\n",
    ")"
   ]
  },
  {
   "cell_type": "code",
   "execution_count": 7,
   "metadata": {},
   "outputs": [
    {
     "data": {
      "text/plain": [
       "<azure.cognitiveservices.language.luis.authoring.models._models_py3.OperationStatus at 0x7f457c14a0a0>"
      ]
     },
     "execution_count": 7,
     "metadata": {},
     "output_type": "execute_result"
    }
   ],
   "source": [
    "## Add entities\n",
    "\n",
    "# add Prebuilt entity\n",
    "client.model.add_prebuilt(\n",
    "    app_id=app_id,\n",
    "    version_id=AZURE_LUIS_PROJECT_VERSION,\n",
    "    prebuilt_extractor_names=[\"geographyV2\"],\n",
    ")\n",
    "client.model.add_prebuilt(\n",
    "    app_id=app_id,\n",
    "    version_id=AZURE_LUIS_PROJECT_VERSION,\n",
    "    prebuilt_extractor_names=[\"datetimeV2\"],\n",
    ")\n",
    "client.model.add_prebuilt(\n",
    "    app_id=app_id,\n",
    "    version_id=AZURE_LUIS_PROJECT_VERSION,\n",
    "    prebuilt_extractor_names=[\"number\"],\n",
    ")\n",
    "\n",
    "# add entity to app\n",
    "or_city_id = client.model.add_entity(\n",
    "    app_id=app_id, version_id=AZURE_LUIS_PROJECT_VERSION, name=\"or_city\"\n",
    ")\n",
    "client.features.add_entity_feature(\n",
    "    app_id=app_id,\n",
    "    version_id=AZURE_LUIS_PROJECT_VERSION,\n",
    "    entity_id=or_city_id,\n",
    "    feature_relation_create_object={\n",
    "        \"model_name\": \"geographyV2\",\n",
    "    },\n",
    ")\n",
    "dst_city_id = client.model.add_entity(\n",
    "    app_id=app_id, version_id=AZURE_LUIS_PROJECT_VERSION, name=\"dst_city\"\n",
    ")\n",
    "client.features.add_entity_feature(\n",
    "    app_id=app_id,\n",
    "    version_id=AZURE_LUIS_PROJECT_VERSION,\n",
    "    entity_id=dst_city_id,\n",
    "    feature_relation_create_object={\n",
    "        \"model_name\": \"geographyV2\",\n",
    "    },\n",
    ")\n",
    "str_date_id = client.model.add_entity(\n",
    "    app_id=app_id, version_id=AZURE_LUIS_PROJECT_VERSION, name=\"str_date\"\n",
    ")\n",
    "client.features.add_entity_feature(\n",
    "    app_id=app_id,\n",
    "    version_id=AZURE_LUIS_PROJECT_VERSION,\n",
    "    entity_id=str_date_id,\n",
    "    feature_relation_create_object={\n",
    "        \"model_name\": \"datetimeV2\",\n",
    "    },\n",
    ")\n",
    "end_date_id = client.model.add_entity(\n",
    "    app_id=app_id, version_id=AZURE_LUIS_PROJECT_VERSION, name=\"end_date\"\n",
    ")\n",
    "client.features.add_entity_feature(\n",
    "    app_id=app_id,\n",
    "    version_id=AZURE_LUIS_PROJECT_VERSION,\n",
    "    entity_id=end_date_id,\n",
    "    feature_relation_create_object={\n",
    "        \"model_name\": \"datetimeV2\",\n",
    "    },\n",
    ")\n",
    "budget_id = client.model.add_entity(\n",
    "    app_id=app_id, version_id=AZURE_LUIS_PROJECT_VERSION, name=\"budget\"\n",
    ")\n",
    "client.features.add_entity_feature(\n",
    "    app_id=app_id,\n",
    "    version_id=AZURE_LUIS_PROJECT_VERSION,\n",
    "    entity_id=budget_id,\n",
    "    feature_relation_create_object={\n",
    "        \"model_name\": \"number\",\n",
    "    },\n",
    ")"
   ]
  },
  {
   "cell_type": "code",
   "execution_count": 8,
   "metadata": {},
   "outputs": [
    {
     "data": {
      "application/vnd.jupyter.widget-view+json": {
       "model_id": "503f7e2e1a47403eb40e89d2f6a9a978",
       "version_major": 2,
       "version_minor": 0
      },
      "text/plain": [
       "  0%|          | 0/1369 [00:00<?, ?it/s]"
      ]
     },
     "metadata": {},
     "output_type": "display_data"
    },
    {
     "data": {
      "application/vnd.jupyter.widget-view+json": {
       "model_id": "76b5bcae46864e1c9aa92ac743051eb4",
       "version_major": 2,
       "version_minor": 0
      },
      "text/plain": [
       "  0%|          | 0/97 [00:00<?, ?it/s]"
      ]
     },
     "metadata": {},
     "output_type": "display_data"
    }
   ],
   "source": [
    "## Format data for LUIS\n",
    "\n",
    "raw_data = pd.read_json(FRAMES_JSON_PATH)\n",
    "\n",
    "\n",
    "entities = [\"or_city\", \"dst_city\", \"str_date\", \"end_date\", \"budget\"]\n",
    "examples = []\n",
    "unique_utterances = []\n",
    "\n",
    "for turn in tqdm(raw_data[\"turns\"]):\n",
    "    for frame in turn:\n",
    "        if frame[\"author\"] == \"wizard\" or frame[\"text\"] in unique_utterances:\n",
    "            continue\n",
    "\n",
    "        unique_utterances.append(frame[\"text\"])\n",
    "\n",
    "        is_book = False\n",
    "        labels = []\n",
    "\n",
    "        for act in frame[\"labels\"][\"acts_without_refs\"]:\n",
    "            for arg in act[\"args\"]:\n",
    "                if arg[\"key\"] == \"intent\" and arg[\"val\"] == \"book\":\n",
    "                    is_book = True\n",
    "\n",
    "                if (\n",
    "                    arg[\"key\"] in entities\n",
    "                    and arg[\"val\"] is not None\n",
    "                    and frame[\"text\"].find(arg[\"val\"]) != -1\n",
    "                ):\n",
    "                    labels.append(\n",
    "                        EntityLabelObject(\n",
    "                            entity_name=arg[\"key\"],\n",
    "                            start_char_index=frame[\"text\"].find(arg[\"val\"]),\n",
    "                            end_char_index=frame[\"text\"].find(arg[\"val\"])\n",
    "                            + len(arg[\"val\"]),\n",
    "                        )\n",
    "                    )\n",
    "\n",
    "        if len(entities) > 0:\n",
    "            examples.append(\n",
    "                ExampleLabelObject(\n",
    "                    text=frame[\"text\"],\n",
    "                    intent_name=\"Book\" if is_book else \"Info\",\n",
    "                    entity_labels=labels,\n",
    "                )\n",
    "            )\n",
    "\n",
    "# add the examples in batch\n",
    "batch_size = 100\n",
    "for index in tqdm(range(0, len(examples), batch_size)):\n",
    "    client.examples.batch(\n",
    "        app_id=app_id,\n",
    "        version_id=AZURE_LUIS_PROJECT_VERSION,\n",
    "        example_label_object_array=examples[index : index + batch_size],\n",
    "    )"
   ]
  },
  {
   "cell_type": "code",
   "execution_count": 9,
   "metadata": {},
   "outputs": [
    {
     "name": "stdout",
     "output_type": "stream",
     "text": [
      "Waiting 10 seconds for training to complete...\n",
      "Waiting 10 seconds for training to complete...\n",
      "Waiting 10 seconds for training to complete...\n",
      "Waiting 10 seconds for training to complete...\n",
      "Waiting 10 seconds for training to complete...\n",
      "Waiting 10 seconds for training to complete...\n",
      "Waiting 10 seconds for training to complete...\n",
      "Waiting 10 seconds for training to complete...\n",
      "Waiting 10 seconds for training to complete...\n",
      "Waiting 10 seconds for training to complete...\n",
      "Waiting 10 seconds for training to complete...\n",
      "Waiting 10 seconds for training to complete...\n",
      "Waiting 10 seconds for training to complete...\n",
      "Waiting 10 seconds for training to complete...\n",
      "Waiting 10 seconds for training to complete...\n",
      "Waiting 10 seconds for training to complete...\n",
      "Waiting 10 seconds for training to complete...\n",
      "Waiting 10 seconds for training to complete...\n",
      "Waiting 10 seconds for training to complete...\n",
      "Waiting 10 seconds for training to complete...\n",
      "Waiting 10 seconds for training to complete...\n",
      "Waiting 10 seconds for training to complete...\n",
      "Waiting 10 seconds for training to complete...\n",
      "Waiting 10 seconds for training to complete...\n",
      "Waiting 10 seconds for training to complete...\n",
      "Waiting 10 seconds for training to complete...\n",
      "Waiting 10 seconds for training to complete...\n",
      "Waiting 10 seconds for training to complete...\n",
      "Waiting 10 seconds for training to complete...\n",
      "Waiting 10 seconds for training to complete...\n",
      "Waiting 10 seconds for training to complete...\n",
      "Waiting 10 seconds for training to complete...\n",
      "Waiting 10 seconds for training to complete...\n",
      "Waiting 10 seconds for training to complete...\n",
      "Waiting 10 seconds for training to complete...\n",
      "Waiting 10 seconds for training to complete...\n",
      "Waiting 10 seconds for training to complete...\n",
      "Waiting 10 seconds for training to complete...\n",
      "Waiting 10 seconds for training to complete...\n",
      "Waiting 10 seconds for training to complete...\n",
      "Waiting 10 seconds for training to complete...\n",
      "Waiting 10 seconds for training to complete...\n",
      "Waiting 10 seconds for training to complete...\n",
      "Waiting 10 seconds for training to complete...\n",
      "Waiting 10 seconds for training to complete...\n",
      "Waiting 10 seconds for training to complete...\n",
      "Waiting 10 seconds for training to complete...\n",
      "Waiting 10 seconds for training to complete...\n",
      "Waiting 10 seconds for training to complete...\n",
      "Waiting 10 seconds for training to complete...\n",
      "Waiting 10 seconds for training to complete...\n",
      "trained\n"
     ]
    }
   ],
   "source": [
    "## Train the model to recognise intents and entities in examples\n",
    "\n",
    "client.train.train_version(app_id=app_id, version_id=AZURE_LUIS_PROJECT_VERSION)\n",
    "waiting = True\n",
    "while waiting:\n",
    "    info = client.train.get_status(app_id=app_id, version_id=AZURE_LUIS_PROJECT_VERSION)\n",
    "\n",
    "    # get_status returns a list of training statuses, one for each model. Loop through them and make sure all are done.\n",
    "    waiting = any(\n",
    "        map(\n",
    "            lambda x: \"Queued\" == x.details.status or \"InProgress\" == x.details.status,\n",
    "            info,\n",
    "        )\n",
    "    )\n",
    "    if waiting:\n",
    "        print(\"Waiting 10 seconds for training to complete...\")\n",
    "        time.sleep(10)\n",
    "    else:\n",
    "        print(\"trained\")\n",
    "        waiting = False"
   ]
  }
 ],
 "metadata": {
  "interpreter": {
   "hash": "e42e041c1008b7d34ddfdf31400d3c61f06b110b4fcd14ef2472b79108a6b85b"
  },
  "kernelspec": {
   "display_name": "Python 3.9.12 ('env': venv)",
   "language": "python",
   "name": "python3"
  },
  "language_info": {
   "codemirror_mode": {
    "name": "ipython",
    "version": 3
   },
   "file_extension": ".py",
   "mimetype": "text/x-python",
   "name": "python",
   "nbconvert_exporter": "python",
   "pygments_lexer": "ipython3",
   "version": "3.9.13"
  },
  "orig_nbformat": 4
 },
 "nbformat": 4,
 "nbformat_minor": 2
}
